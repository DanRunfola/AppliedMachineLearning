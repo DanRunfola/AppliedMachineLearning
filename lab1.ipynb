{
 "cells": [
  {
   "cell_type": "code",
   "execution_count": 27,
   "metadata": {},
   "outputs": [
    {
     "name": "stdout",
     "output_type": "stream",
     "text": [
      "The scikit-learn version is 0.19.2.\n"
     ]
    }
   ],
   "source": [
    "#Check your development environment is working correctly\n",
    "import sklearn\n",
    "import numpy as np\n",
    "import pandas as pd\n",
    "\n",
    "print('The scikit-learn version is {}.'.format(sklearn.__version__))\n",
    "if(sklearn.__version__ != \"0.19.2\"):\n",
    "    print(\"This course was coded using sklearn 0.19.2.  Most things will work, but there are likely many that will not. You can proceed, but at your own risk.\")"
   ]
  },
  {
   "cell_type": "code",
   "execution_count": 28,
   "metadata": {},
   "outputs": [
    {
     "data": {
      "text/html": [
       "<div>\n",
       "<style scoped>\n",
       "    .dataframe tbody tr th:only-of-type {\n",
       "        vertical-align: middle;\n",
       "    }\n",
       "\n",
       "    .dataframe tbody tr th {\n",
       "        vertical-align: top;\n",
       "    }\n",
       "\n",
       "    .dataframe thead th {\n",
       "        text-align: right;\n",
       "    }\n",
       "</style>\n",
       "<table border=\"1\" class=\"dataframe\">\n",
       "  <thead>\n",
       "    <tr style=\"text-align: right;\">\n",
       "      <th></th>\n",
       "      <th>Class</th>\n",
       "      <th>Age</th>\n",
       "      <th>Funds</th>\n",
       "      <th>Sale</th>\n",
       "    </tr>\n",
       "  </thead>\n",
       "  <tbody>\n",
       "    <tr>\n",
       "      <th>0</th>\n",
       "      <td>Freshmen</td>\n",
       "      <td>18.0</td>\n",
       "      <td>600.0</td>\n",
       "      <td>No</td>\n",
       "    </tr>\n",
       "    <tr>\n",
       "      <th>1</th>\n",
       "      <td>Freshmen</td>\n",
       "      <td>18.0</td>\n",
       "      <td>500.0</td>\n",
       "      <td>No</td>\n",
       "    </tr>\n",
       "    <tr>\n",
       "      <th>2</th>\n",
       "      <td>Freshmen</td>\n",
       "      <td>18.0</td>\n",
       "      <td>600.0</td>\n",
       "      <td>No</td>\n",
       "    </tr>\n",
       "    <tr>\n",
       "      <th>3</th>\n",
       "      <td>Senior</td>\n",
       "      <td>23.0</td>\n",
       "      <td>800.0</td>\n",
       "      <td>No</td>\n",
       "    </tr>\n",
       "    <tr>\n",
       "      <th>4</th>\n",
       "      <td>Junior</td>\n",
       "      <td>21.0</td>\n",
       "      <td>400.0</td>\n",
       "      <td>Yes</td>\n",
       "    </tr>\n",
       "    <tr>\n",
       "      <th>5</th>\n",
       "      <td>Freshmen</td>\n",
       "      <td>19.0</td>\n",
       "      <td>600.0</td>\n",
       "      <td>No</td>\n",
       "    </tr>\n",
       "    <tr>\n",
       "      <th>6</th>\n",
       "      <td>Freshmen</td>\n",
       "      <td>20.0</td>\n",
       "      <td>600.0</td>\n",
       "      <td>No</td>\n",
       "    </tr>\n",
       "    <tr>\n",
       "      <th>7</th>\n",
       "      <td>Senior</td>\n",
       "      <td>24.0</td>\n",
       "      <td>NaN</td>\n",
       "      <td>Yes</td>\n",
       "    </tr>\n",
       "    <tr>\n",
       "      <th>8</th>\n",
       "      <td>Sophomore</td>\n",
       "      <td>23.0</td>\n",
       "      <td>620.0</td>\n",
       "      <td>Yes</td>\n",
       "    </tr>\n",
       "    <tr>\n",
       "      <th>9</th>\n",
       "      <td>Sophomore</td>\n",
       "      <td>25.0</td>\n",
       "      <td>800.0</td>\n",
       "      <td>Yes</td>\n",
       "    </tr>\n",
       "    <tr>\n",
       "      <th>10</th>\n",
       "      <td>Junior</td>\n",
       "      <td>21.0</td>\n",
       "      <td>900.0</td>\n",
       "      <td>No</td>\n",
       "    </tr>\n",
       "    <tr>\n",
       "      <th>11</th>\n",
       "      <td>Junior</td>\n",
       "      <td>21.0</td>\n",
       "      <td>650.0</td>\n",
       "      <td>Yes</td>\n",
       "    </tr>\n",
       "    <tr>\n",
       "      <th>12</th>\n",
       "      <td>Sophomore</td>\n",
       "      <td>NaN</td>\n",
       "      <td>500.0</td>\n",
       "      <td>No</td>\n",
       "    </tr>\n",
       "    <tr>\n",
       "      <th>13</th>\n",
       "      <td>Junior</td>\n",
       "      <td>21.0</td>\n",
       "      <td>800.0</td>\n",
       "      <td>No</td>\n",
       "    </tr>\n",
       "    <tr>\n",
       "      <th>14</th>\n",
       "      <td>Junior</td>\n",
       "      <td>20.0</td>\n",
       "      <td>650.0</td>\n",
       "      <td>Yes</td>\n",
       "    </tr>\n",
       "    <tr>\n",
       "      <th>15</th>\n",
       "      <td>Sophomore</td>\n",
       "      <td>21.0</td>\n",
       "      <td>580.0</td>\n",
       "      <td>Yes</td>\n",
       "    </tr>\n",
       "    <tr>\n",
       "      <th>16</th>\n",
       "      <td>Sophomore</td>\n",
       "      <td>20.0</td>\n",
       "      <td>800.0</td>\n",
       "      <td>Yes</td>\n",
       "    </tr>\n",
       "    <tr>\n",
       "      <th>17</th>\n",
       "      <td>Senior</td>\n",
       "      <td>26.0</td>\n",
       "      <td>NaN</td>\n",
       "      <td>Yes</td>\n",
       "    </tr>\n",
       "    <tr>\n",
       "      <th>18</th>\n",
       "      <td>Senior</td>\n",
       "      <td>25.0</td>\n",
       "      <td>NaN</td>\n",
       "      <td>Yes</td>\n",
       "    </tr>\n",
       "    <tr>\n",
       "      <th>19</th>\n",
       "      <td>Senior</td>\n",
       "      <td>41.0</td>\n",
       "      <td>NaN</td>\n",
       "      <td>Yes</td>\n",
       "    </tr>\n",
       "    <tr>\n",
       "      <th>20</th>\n",
       "      <td>Sophomore</td>\n",
       "      <td>NaN</td>\n",
       "      <td>500.0</td>\n",
       "      <td>No</td>\n",
       "    </tr>\n",
       "    <tr>\n",
       "      <th>21</th>\n",
       "      <td>Freshmen</td>\n",
       "      <td>18.0</td>\n",
       "      <td>500.0</td>\n",
       "      <td>No</td>\n",
       "    </tr>\n",
       "    <tr>\n",
       "      <th>22</th>\n",
       "      <td>Freshmen</td>\n",
       "      <td>18.0</td>\n",
       "      <td>500.0</td>\n",
       "      <td>No</td>\n",
       "    </tr>\n",
       "    <tr>\n",
       "      <th>23</th>\n",
       "      <td>Freshmen</td>\n",
       "      <td>18.0</td>\n",
       "      <td>600.0</td>\n",
       "      <td>No</td>\n",
       "    </tr>\n",
       "  </tbody>\n",
       "</table>\n",
       "</div>"
      ],
      "text/plain": [
       "        Class   Age  Funds Sale\n",
       "0    Freshmen  18.0  600.0   No\n",
       "1    Freshmen  18.0  500.0   No\n",
       "2    Freshmen  18.0  600.0   No\n",
       "3      Senior  23.0  800.0   No\n",
       "4      Junior  21.0  400.0  Yes\n",
       "5    Freshmen  19.0  600.0   No\n",
       "6    Freshmen  20.0  600.0   No\n",
       "7      Senior  24.0    NaN  Yes\n",
       "8   Sophomore  23.0  620.0  Yes\n",
       "9   Sophomore  25.0  800.0  Yes\n",
       "10     Junior  21.0  900.0   No\n",
       "11     Junior  21.0  650.0  Yes\n",
       "12  Sophomore   NaN  500.0   No\n",
       "13     Junior  21.0  800.0   No\n",
       "14     Junior  20.0  650.0  Yes\n",
       "15  Sophomore  21.0  580.0  Yes\n",
       "16  Sophomore  20.0  800.0  Yes\n",
       "17     Senior  26.0    NaN  Yes\n",
       "18     Senior  25.0    NaN  Yes\n",
       "19     Senior  41.0    NaN  Yes\n",
       "20  Sophomore   NaN  500.0   No\n",
       "21   Freshmen  18.0  500.0   No\n",
       "22   Freshmen  18.0  500.0   No\n",
       "23   Freshmen  18.0  600.0   No"
      ]
     },
     "execution_count": 28,
     "metadata": {},
     "output_type": "execute_result"
    }
   ],
   "source": [
    "data = pd.read_csv(\"data/L1Data.csv\")\n",
    "data"
   ]
  },
  {
   "cell_type": "code",
   "execution_count": 31,
   "metadata": {},
   "outputs": [
    {
     "data": {
      "text/plain": [
       "array([['Freshmen', 18.0, 600.0],\n",
       "       ['Freshmen', 18.0, 500.0],\n",
       "       ['Freshmen', 18.0, 600.0],\n",
       "       ['Senior', 23.0, 800.0],\n",
       "       ['Junior', 21.0, 400.0],\n",
       "       ['Freshmen', 19.0, 600.0],\n",
       "       ['Freshmen', 20.0, 600.0],\n",
       "       ['Senior', 24.0, nan],\n",
       "       ['Sophomore', 23.0, 620.0],\n",
       "       ['Sophomore', 25.0, 800.0],\n",
       "       ['Junior', 21.0, 900.0],\n",
       "       ['Junior', 21.0, 650.0],\n",
       "       ['Sophomore', nan, 500.0],\n",
       "       ['Junior', 21.0, 800.0],\n",
       "       ['Junior', 20.0, 650.0],\n",
       "       ['Sophomore', 21.0, 580.0],\n",
       "       ['Sophomore', 20.0, 800.0],\n",
       "       ['Senior', 26.0, nan],\n",
       "       ['Senior', 25.0, nan],\n",
       "       ['Senior', 41.0, nan],\n",
       "       ['Sophomore', nan, 500.0],\n",
       "       ['Freshmen', 18.0, 500.0],\n",
       "       ['Freshmen', 18.0, 500.0],\n",
       "       ['Freshmen', 18.0, 600.0]], dtype=object)"
      ]
     },
     "execution_count": 31,
     "metadata": {},
     "output_type": "execute_result"
    }
   ],
   "source": [
    "X = data[[\"Class\", \"Age\", \"Funds\"]].values\n",
    "X"
   ]
  },
  {
   "cell_type": "code",
   "execution_count": 33,
   "metadata": {},
   "outputs": [],
   "source": [
    "y = data[[\"Sale\"]].values"
   ]
  },
  {
   "cell_type": "code",
   "execution_count": 34,
   "metadata": {},
   "outputs": [
    {
     "data": {
      "text/plain": [
       "array([['Freshmen', 18.0, 600.0],\n",
       "       ['Freshmen', 18.0, 500.0],\n",
       "       ['Freshmen', 18.0, 600.0],\n",
       "       ['Senior', 23.0, 800.0],\n",
       "       ['Junior', 21.0, 400.0],\n",
       "       ['Freshmen', 19.0, 600.0],\n",
       "       ['Freshmen', 20.0, 600.0],\n",
       "       ['Senior', 24.0, nan],\n",
       "       ['Sophomore', 23.0, 620.0],\n",
       "       ['Sophomore', 25.0, 800.0],\n",
       "       ['Junior', 21.0, 900.0],\n",
       "       ['Junior', 21.0, 650.0],\n",
       "       ['Sophomore', nan, 500.0],\n",
       "       ['Junior', 21.0, 800.0],\n",
       "       ['Junior', 20.0, 650.0],\n",
       "       ['Sophomore', 21.0, 580.0],\n",
       "       ['Sophomore', 20.0, 800.0],\n",
       "       ['Senior', 26.0, nan],\n",
       "       ['Senior', 25.0, nan],\n",
       "       ['Senior', 41.0, nan],\n",
       "       ['Sophomore', nan, 500.0],\n",
       "       ['Freshmen', 18.0, 500.0],\n",
       "       ['Freshmen', 18.0, 500.0],\n",
       "       ['Freshmen', 18.0, 600.0]], dtype=object)"
      ]
     },
     "execution_count": 34,
     "metadata": {},
     "output_type": "execute_result"
    }
   ],
   "source": [
    "X"
   ]
  },
  {
   "cell_type": "code",
   "execution_count": 37,
   "metadata": {},
   "outputs": [
    {
     "data": {
      "text/plain": [
       "array([['Freshmen', 18.0, 600.0],\n",
       "       ['Freshmen', 18.0, 500.0],\n",
       "       ['Freshmen', 18.0, 600.0],\n",
       "       ['Senior', 23.0, 800.0],\n",
       "       ['Junior', 21.0, 400.0],\n",
       "       ['Freshmen', 19.0, 600.0],\n",
       "       ['Freshmen', 20.0, 600.0],\n",
       "       ['Senior', 24.0, 625.0],\n",
       "       ['Sophomore', 23.0, 620.0],\n",
       "       ['Sophomore', 25.0, 800.0],\n",
       "       ['Junior', 21.0, 900.0],\n",
       "       ['Junior', 21.0, 650.0],\n",
       "       ['Sophomore', 21.772727272727273, 500.0],\n",
       "       ['Junior', 21.0, 800.0],\n",
       "       ['Junior', 20.0, 650.0],\n",
       "       ['Sophomore', 21.0, 580.0],\n",
       "       ['Sophomore', 20.0, 800.0],\n",
       "       ['Senior', 26.0, 625.0],\n",
       "       ['Senior', 25.0, 625.0],\n",
       "       ['Senior', 41.0, 625.0],\n",
       "       ['Sophomore', 21.772727272727273, 500.0],\n",
       "       ['Freshmen', 18.0, 500.0],\n",
       "       ['Freshmen', 18.0, 500.0],\n",
       "       ['Freshmen', 18.0, 600.0]], dtype=object)"
      ]
     },
     "execution_count": 37,
     "metadata": {},
     "output_type": "execute_result"
    }
   ],
   "source": [
    "from sklearn.preprocessing import Imputer\n",
    "imputing_configuration = Imputer(missing_values = 'NaN', strategy=\"mean\")\n",
    "imputed_values = imputing_configuration.fit(X[:,[1,2]])\n",
    "X[:,[1,2]] = imputed_values.transform(X[:,[1,2]])\n",
    "X"
   ]
  },
  {
   "cell_type": "code",
   "execution_count": 12,
   "metadata": {},
   "outputs": [
    {
     "data": {
      "text/plain": [
       "array([[0, 18.0, 600.0],\n",
       "       [0, 18.0, 500.0],\n",
       "       [0, 18.0, 600.0],\n",
       "       [2, 23.0, 800.0],\n",
       "       [1, 21.0, 400.0],\n",
       "       [0, 19.0, 600.0],\n",
       "       [0, 20.0, 600.0],\n",
       "       [2, 24.0, 625.0],\n",
       "       [3, 23.0, 620.0],\n",
       "       [3, 25.0, 800.0],\n",
       "       [1, 21.0, 900.0],\n",
       "       [1, 21.0, 650.0],\n",
       "       [3, 21.772727272727273, 500.0],\n",
       "       [1, 21.0, 800.0],\n",
       "       [1, 20.0, 650.0],\n",
       "       [3, 21.0, 580.0],\n",
       "       [3, 20.0, 800.0],\n",
       "       [2, 26.0, 625.0],\n",
       "       [2, 25.0, 625.0],\n",
       "       [2, 41.0, 625.0],\n",
       "       [3, 21.772727272727273, 500.0],\n",
       "       [0, 18.0, 500.0],\n",
       "       [0, 18.0, 500.0],\n",
       "       [0, 18.0, 600.0]], dtype=object)"
      ]
     },
     "execution_count": 12,
     "metadata": {},
     "output_type": "execute_result"
    }
   ],
   "source": [
    "from sklearn.preprocessing import LabelEncoder\n",
    "discreteCoder_X = LabelEncoder()\n",
    "\n",
    "X[:,0] = discreteCoder_X.fit_transform(X[:,0])\n",
    "X"
   ]
  },
  {
   "cell_type": "code",
   "execution_count": 15,
   "metadata": {},
   "outputs": [
    {
     "data": {
      "text/plain": [
       "array([[  1.        ,   0.        ,   1.        ,   0.        ,\n",
       "          0.        ,   0.        ,  18.        , 600.        ],\n",
       "       [  1.        ,   0.        ,   1.        ,   0.        ,\n",
       "          0.        ,   0.        ,  18.        , 500.        ],\n",
       "       [  1.        ,   0.        ,   1.        ,   0.        ,\n",
       "          0.        ,   0.        ,  18.        , 600.        ],\n",
       "       [  0.        ,   1.        ,   0.        ,   0.        ,\n",
       "          1.        ,   0.        ,  23.        , 800.        ],\n",
       "       [  0.        ,   1.        ,   0.        ,   1.        ,\n",
       "          0.        ,   0.        ,  21.        , 400.        ],\n",
       "       [  1.        ,   0.        ,   1.        ,   0.        ,\n",
       "          0.        ,   0.        ,  19.        , 600.        ],\n",
       "       [  1.        ,   0.        ,   1.        ,   0.        ,\n",
       "          0.        ,   0.        ,  20.        , 600.        ],\n",
       "       [  0.        ,   1.        ,   0.        ,   0.        ,\n",
       "          1.        ,   0.        ,  24.        , 625.        ],\n",
       "       [  0.        ,   1.        ,   0.        ,   0.        ,\n",
       "          0.        ,   1.        ,  23.        , 620.        ],\n",
       "       [  0.        ,   1.        ,   0.        ,   0.        ,\n",
       "          0.        ,   1.        ,  25.        , 800.        ],\n",
       "       [  0.        ,   1.        ,   0.        ,   1.        ,\n",
       "          0.        ,   0.        ,  21.        , 900.        ],\n",
       "       [  0.        ,   1.        ,   0.        ,   1.        ,\n",
       "          0.        ,   0.        ,  21.        , 650.        ],\n",
       "       [  0.        ,   1.        ,   0.        ,   0.        ,\n",
       "          0.        ,   1.        ,  21.77272727, 500.        ],\n",
       "       [  0.        ,   1.        ,   0.        ,   1.        ,\n",
       "          0.        ,   0.        ,  21.        , 800.        ],\n",
       "       [  0.        ,   1.        ,   0.        ,   1.        ,\n",
       "          0.        ,   0.        ,  20.        , 650.        ],\n",
       "       [  0.        ,   1.        ,   0.        ,   0.        ,\n",
       "          0.        ,   1.        ,  21.        , 580.        ],\n",
       "       [  0.        ,   1.        ,   0.        ,   0.        ,\n",
       "          0.        ,   1.        ,  20.        , 800.        ],\n",
       "       [  0.        ,   1.        ,   0.        ,   0.        ,\n",
       "          1.        ,   0.        ,  26.        , 625.        ],\n",
       "       [  0.        ,   1.        ,   0.        ,   0.        ,\n",
       "          1.        ,   0.        ,  25.        , 625.        ],\n",
       "       [  0.        ,   1.        ,   0.        ,   0.        ,\n",
       "          1.        ,   0.        ,  41.        , 625.        ],\n",
       "       [  0.        ,   1.        ,   0.        ,   0.        ,\n",
       "          0.        ,   1.        ,  21.77272727, 500.        ],\n",
       "       [  1.        ,   0.        ,   1.        ,   0.        ,\n",
       "          0.        ,   0.        ,  18.        , 500.        ],\n",
       "       [  1.        ,   0.        ,   1.        ,   0.        ,\n",
       "          0.        ,   0.        ,  18.        , 500.        ],\n",
       "       [  1.        ,   0.        ,   1.        ,   0.        ,\n",
       "          0.        ,   0.        ,  18.        , 600.        ]])"
      ]
     },
     "execution_count": 15,
     "metadata": {},
     "output_type": "execute_result"
    }
   ],
   "source": [
    "from sklearn.preprocessing import OneHotEncoder\n",
    "discreteCoder_X_dummies = OneHotEncoder(categorical_features = [0])\n",
    "X = discreteCoder_X_dummies.fit_transform(X).toarray()\n",
    "X"
   ]
  },
  {
   "cell_type": "code",
   "execution_count": 17,
   "metadata": {},
   "outputs": [
    {
     "data": {
      "text/plain": [
       "array([0, 0, 0, 0, 1, 0, 0, 1, 1, 1, 0, 1, 0, 0, 1, 1, 1, 1, 1, 1, 0, 0,\n",
       "       0, 0])"
      ]
     },
     "execution_count": 17,
     "metadata": {},
     "output_type": "execute_result"
    }
   ],
   "source": [
    "discreteCoder_y = LabelEncoder()\n",
    "y = discreteCoder_y.fit_transform(y)\n",
    "y"
   ]
  },
  {
   "cell_type": "code",
   "execution_count": 19,
   "metadata": {},
   "outputs": [],
   "source": [
    "from sklearn.cross_validation import train_test_split\n",
    "X_train, X_test, y_train, y_test = train_test_split(X, y, test_size = 0.20, random_state = 1693)\n"
   ]
  },
  {
   "cell_type": "code",
   "execution_count": 22,
   "metadata": {},
   "outputs": [
    {
     "data": {
      "text/plain": [
       "array([1, 1, 0, 1, 0, 1, 1, 1, 1, 1, 0, 0, 0, 0, 0, 0, 1, 0, 1])"
      ]
     },
     "execution_count": 22,
     "metadata": {},
     "output_type": "execute_result"
    }
   ],
   "source": [
    "y_train"
   ]
  },
  {
   "cell_type": "code",
   "execution_count": 24,
   "metadata": {},
   "outputs": [
    {
     "data": {
      "text/plain": [
       "array([[-0.67936622,  0.67936622, -0.67936622,  1.93649167, -0.5976143 ,\n",
       "        -0.51639778, -0.24692088,  0.14633175],\n",
       "       [-0.67936622,  0.67936622, -0.67936622, -0.51639778,  1.67332005,\n",
       "        -0.51639778,  0.7398184 , -0.06429728],\n",
       "       [ 1.47196014, -1.47196014,  1.47196014, -0.51639778, -0.5976143 ,\n",
       "        -0.51639778, -0.83896446, -1.11744247],\n",
       "       [-0.67936622,  0.67936622, -0.67936622,  1.93649167, -0.5976143 ,\n",
       "        -0.51639778, -0.24692088, -1.95995861],\n",
       "       [ 1.47196014, -1.47196014,  1.47196014, -0.51639778, -0.5976143 ,\n",
       "        -0.51639778, -0.44426874, -0.27492632],\n",
       "       [-0.67936622,  0.67936622, -0.67936622, -0.51639778, -0.5976143 ,\n",
       "         1.93649167,  0.14777483, -0.10642309],\n",
       "       [-0.67936622,  0.67936622, -0.67936622, -0.51639778, -0.5976143 ,\n",
       "         1.93649167,  0.54247055,  1.41010597],\n",
       "       [-0.67936622,  0.67936622, -0.67936622, -0.51639778,  1.67332005,\n",
       "        -0.51639778,  3.70003627, -0.06429728],\n",
       "       [-0.67936622,  0.67936622, -0.67936622, -0.51639778,  1.67332005,\n",
       "        -0.51639778,  0.34512269, -0.06429728],\n",
       "       [-0.67936622,  0.67936622, -0.67936622, -0.51639778,  1.67332005,\n",
       "        -0.51639778,  0.54247055, -0.06429728],\n",
       "       [ 1.47196014, -1.47196014,  1.47196014, -0.51639778, -0.5976143 ,\n",
       "        -0.51639778, -0.83896446, -0.27492632],\n",
       "       [-0.67936622,  0.67936622, -0.67936622, -0.51639778, -0.5976143 ,\n",
       "         1.93649167, -0.09442481, -1.11744247],\n",
       "       [-0.67936622,  0.67936622, -0.67936622,  1.93649167, -0.5976143 ,\n",
       "        -0.51639778, -0.24692088,  2.25262211],\n",
       "       [-0.67936622,  0.67936622, -0.67936622, -0.51639778,  1.67332005,\n",
       "        -0.51639778,  0.14777483,  1.41010597],\n",
       "       [ 1.47196014, -1.47196014,  1.47196014, -0.51639778, -0.5976143 ,\n",
       "        -0.51639778, -0.83896446, -0.27492632],\n",
       "       [ 1.47196014, -1.47196014,  1.47196014, -0.51639778, -0.5976143 ,\n",
       "        -0.51639778, -0.83896446, -1.11744247],\n",
       "       [-0.67936622,  0.67936622, -0.67936622,  1.93649167, -0.5976143 ,\n",
       "        -0.51639778, -0.44426874,  0.14633175],\n",
       "       [ 1.47196014, -1.47196014,  1.47196014, -0.51639778, -0.5976143 ,\n",
       "        -0.51639778, -0.6416166 , -0.27492632],\n",
       "       [-0.67936622,  0.67936622, -0.67936622, -0.51639778, -0.5976143 ,\n",
       "         1.93649167, -0.44426874,  1.41010597]])"
      ]
     },
     "execution_count": 24,
     "metadata": {},
     "output_type": "execute_result"
    }
   ],
   "source": [
    "from sklearn.preprocessing import StandardScaler\n",
    "scale_X = StandardScaler()\n",
    "\n",
    "#Note I add the \"_std\" here.\n",
    "#This is better practice than what I have in the video,\n",
    "#as you don't overwrite your original X_train.\n",
    "#This can be a particular issue when you're using notebooks.\n",
    "X_train_std = scale_X.fit_transform(X_train)\n",
    "X_train_std"
   ]
  },
  {
   "cell_type": "code",
   "execution_count": 26,
   "metadata": {},
   "outputs": [
    {
     "data": {
      "text/plain": [
       "array([[-0.67936622,  0.67936622, -0.67936622,  1.93649167, -0.5976143 ,\n",
       "        -0.51639778, -0.24692088,  1.41010597],\n",
       "       [-0.67936622,  0.67936622, -0.67936622, -0.51639778, -0.5976143 ,\n",
       "         1.93649167, -0.24692088, -0.44342955],\n",
       "       [ 1.47196014, -1.47196014,  1.47196014, -0.51639778, -0.5976143 ,\n",
       "        -0.51639778, -0.83896446, -0.27492632],\n",
       "       [ 1.47196014, -1.47196014,  1.47196014, -0.51639778, -0.5976143 ,\n",
       "        -0.51639778, -0.83896446, -1.11744247],\n",
       "       [-0.67936622,  0.67936622, -0.67936622, -0.51639778, -0.5976143 ,\n",
       "         1.93649167, -0.09442481, -1.11744247]])"
      ]
     },
     "execution_count": 26,
     "metadata": {},
     "output_type": "execute_result"
    }
   ],
   "source": [
    "X_test_std = scale_X.transform(X_test)\n",
    "X_test_std"
   ]
  }
 ],
 "metadata": {
  "kernelspec": {
   "display_name": "Python [conda env:conda_aML]",
   "language": "python",
   "name": "conda-env-conda_aML-py"
  },
  "language_info": {
   "codemirror_mode": {
    "name": "ipython",
    "version": 3
   },
   "file_extension": ".py",
   "mimetype": "text/x-python",
   "name": "python",
   "nbconvert_exporter": "python",
   "pygments_lexer": "ipython3",
   "version": "3.5.6"
  }
 },
 "nbformat": 4,
 "nbformat_minor": 2
}
